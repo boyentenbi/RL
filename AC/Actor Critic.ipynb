{
 "cells": [
  {
   "cell_type": "code",
   "execution_count": 1,
   "metadata": {
    "collapsed": false
   },
   "outputs": [],
   "source": [
    "import tensorflow as tf\n",
    "import tflearn\n",
    "import numpy as np\n",
    "import gym\n",
    "from ActorPair import ActorPair\n",
    "from CriticPair import CriticPair\n",
    "from ReplayBuffer import ReplayBuffer"
   ]
  },
  {
   "cell_type": "code",
   "execution_count": 2,
   "metadata": {
    "collapsed": true
   },
   "outputs": [],
   "source": [
    "\n",
    "# ==========================\n",
    "#   Training Parameters\n",
    "# ==========================\n",
    "# Max training steps\n",
    "MAX_EPISODES = 50000\n",
    "# Max episode length\n",
    "MAX_EP_STEPS = 200\n",
    "# Base learning rate for the Actor network\n",
    "ACTOR_LEARNING_RATE = 0.003\n",
    "# Base learning rate for the Critic Network\n",
    "CRITIC_LEARNING_RATE = 0.001\n",
    "# Discount factor \n",
    "GAMMA = 0.99\n",
    "# Soft target update param\n",
    "TAU = 0.001\n",
    "\n",
    "# ===========================\n",
    "#   Utility Parameters\n",
    "# ===========================\n",
    "# Render gym env during training\n",
    "RENDER_ENV = True\n",
    "# Use Gym Monitor\n",
    "GYM_MONITOR_EN = True\n",
    "# Gym environment\n",
    "ENV_NAME = 'Pendulum-v0'\n",
    "# Directory for storing gym results\n",
    "MONITOR_DIR = './results/gym_ddpg'\n",
    "# Directory for storing tensorboard summary results\n",
    "SUMMARY_DIR = './results/tf_ddpg'\n",
    "RANDOM_SEED = 1337\n",
    "# Size of replay buffer\n",
    "BUFFER_SIZE = 10000\n",
    "MINIBATCH_SIZE = 64"
   ]
  },
  {
   "cell_type": "code",
   "execution_count": 3,
   "metadata": {
    "collapsed": false
   },
   "outputs": [],
   "source": [
    "def train(sess, env, actor, critic):\n",
    "    \n",
    "    # Initialize our Tensorflow variables\n",
    "    sess.run(tf.initialize_all_variables())\n",
    "   \n",
    "    # Initialize target network weights\n",
    "    actor.update_target_network()\n",
    "    critic.update_target_network()\n",
    "\n",
    "    # Initialize replay memory\n",
    "    replay_buffer = ReplayBuffer(BUFFER_SIZE)\n",
    "    \n",
    "    for i in range(MAX_EPISODES):\n",
    "        s = env.reset()\n",
    "#         print \"Episode\", i\n",
    "        ep_reward = 0\n",
    "        ep_ave_max_q = 0\n",
    "        for j in range(MAX_EP_STEPS):\n",
    "            \n",
    "            if RENDER_ENV:\n",
    "                env.render()\n",
    "            \n",
    "            # generating a step\n",
    "            \n",
    "            # adding noise so that actor explores systematically across episode and step\n",
    "            a = actor.predict(np.reshape(s, (1, -1))) #+ (1. / (1. + i + j))\n",
    "            # get new state and reward\n",
    "            s2, r, is_done, info = env.step(a[0])\n",
    "            \n",
    "            # add step to replay buffer\n",
    "            \n",
    "            replay_buffer.add(np.reshape(s, (actor.s_dim,)),\n",
    "                              np.reshape(a, (actor.a_dim,)), r,\n",
    "                              is_done, np.reshape(s2, (actor.s_dim,)))\n",
    "            \n",
    "            # keep adding steps until there are enough to do a training update\n",
    "            \n",
    "            if replay_buffer.size() > MINIBATCH_SIZE:\n",
    "                s_batch, a_batch, r_batch, is_done_batch, s2_batch = \\\n",
    "                    replay_buffer.sample_batch(MINIBATCH_SIZE)\n",
    "                \n",
    "                \n",
    "                # calculate targets\n",
    "                target_qs = critic.predict_target(s2_batch, actor.predict_target(s2_batch))\n",
    "                \n",
    "                #if the game has ended target_q not added to get hindsight q\n",
    "                hindsight_q_vec = (r_batch + (1 - is_done_batch.astype(float)) * GAMMA * np.reshape(target_qs, (MINIBATCH_SIZE,)))\n",
    "#                 print \"r_batch has shape: \", r_batch.shape\n",
    "#                 print \"is_done_batch has shape: \", is_done_batch.shape\n",
    "#                 print \"target_qs has shape: \", target_qs.shape\n",
    "#                 print \"H q vec has shape: \", hindsight_q_vec.shape\n",
    "                \n",
    "                \n",
    "                \n",
    "                \n",
    "                #critic training\n",
    "                \n",
    "                predicted_q_value, _ = critic.train(s_batch, a_batch,\n",
    "                                                     np.reshape(hindsight_q_vec, (MINIBATCH_SIZE, 1)))\n",
    "                ep_ave_max_q += np.amax(predicted_q_value)\n",
    "                \n",
    "                # actor training\n",
    "                actions = actor.predict(s_batch)\n",
    "                dQda_list = critic.action_gradients(s_batch, actions) # could repeat more than once, or even less than once\n",
    "                actor.train(s_batch, dQda_list[0])\n",
    "                \n",
    "                # updates targets\n",
    "                actor.update_target_network()\n",
    "                critic.update_target_network()\n",
    "                \n",
    "            s=s2\n",
    "                \n",
    "            ep_reward += r\n",
    "                \n",
    "            if is_done or j == MAX_EP_STEPS-1:\n",
    "                print '| Reward: %.2i' % int(ep_reward), \" | Episode\", i, \\\n",
    "                    '| Qmax: %.4f' % (ep_ave_max_q / float(j))\n",
    "                break\n",
    "        \n",
    "                \n",
    "            "
   ]
  },
  {
   "cell_type": "code",
   "execution_count": null,
   "metadata": {
    "collapsed": false
   },
   "outputs": [
    {
     "name": "stderr",
     "output_type": "stream",
     "text": [
      "[2016-11-09 21:43:24,354] Making new env: Pendulum-v0\n"
     ]
    },
    {
     "name": "stdout",
     "output_type": "stream",
     "text": [
      "| Reward: -1431  | Episode 0 | Qmax: -2.3196\n",
      "| Reward: -1572  | Episode 1 | Qmax: -0.4209\n",
      "| Reward: -1449  | Episode 2 | Qmax: -1.1744\n",
      "| Reward: -1637  | Episode 3 | Qmax: -1.3928\n",
      "| Reward: -1248  | Episode 4 | Qmax: -0.9626\n",
      "| Reward: -1104  | Episode 5 | Qmax: -0.5138\n",
      "| Reward: -1537  | Episode 6 | Qmax: -0.6419\n",
      "| Reward: -1490  | Episode 7 | Qmax: -0.7667\n",
      "| Reward: -1462  | Episode 8 | Qmax: -0.9650\n",
      "| Reward: -1255  | Episode 9 | Qmax: -0.5602\n"
     ]
    }
   ],
   "source": [
    "# defining environment\n",
    "sess = tf.Session()\n",
    "\n",
    "env = gym.make('Pendulum-v0')\n",
    "\n",
    "state_dim = env.observation_space.shape[0]\n",
    "action_dim = env.action_space.shape[0]\n",
    "\n",
    "# make sure action bound is symmetric (can change in future,\n",
    "# but need to remember to scale actor output appropriately)\n",
    "assert (env.action_space.high == -env.action_space.low)\n",
    "\n",
    "action_bound = env.action_space.high\n",
    "\n",
    "# start up actor and critic pair\n",
    "\n",
    "actor = ActorPair(sess, state_dim, action_dim, action_bound, \n",
    "                 ACTOR_LEARNING_RATE, TAU)\n",
    "\n",
    "critic = CriticPair(sess, state_dim, action_dim,\n",
    "                   CRITIC_LEARNING_RATE, TAU,  actor.get_num_trainable_vars())\n",
    "\n",
    "train(sess, env, actor, critic)"
   ]
  },
  {
   "cell_type": "code",
   "execution_count": null,
   "metadata": {
    "collapsed": true
   },
   "outputs": [],
   "source": []
  }
 ],
 "metadata": {
  "anaconda-cloud": {},
  "kernelspec": {
   "display_name": "Python [Root]",
   "language": "python",
   "name": "Python [Root]"
  },
  "language_info": {
   "codemirror_mode": {
    "name": "ipython",
    "version": 2
   },
   "file_extension": ".py",
   "mimetype": "text/x-python",
   "name": "python",
   "nbconvert_exporter": "python",
   "pygments_lexer": "ipython2",
   "version": "2.7.12"
  }
 },
 "nbformat": 4,
 "nbformat_minor": 0
}
