{
 "cells": [
  {
   "cell_type": "code",
   "execution_count": null,
   "metadata": {
    "collapsed": true
   },
   "outputs": [],
   "source": [
    " self.state, self.action, self.value = self.create_critic_network()\n",
    "# Create a reference to the params\n",
    "self.network_params = tf.trainable_variables()[num_actor_vars:]\n",
    "# Create the target network\n",
    "self.target_state, self.target_action, self.target_value = self.create_critic_network()\n",
    "# Reference the target params\n",
    "self.target_network_params = tf.trainable_variables()[num_actor_vars+len(self.network_params):]\n",
    "\n",
    "# Obtained from the target networks\n",
    "self.hindsight_q_value = tf.placeholder(tf.float32, [None, 1])\n",
    "# Define loss and optimization Op\n",
    "self.loss = tflearn.mean_square(self.hindsight_q_value, self.value)\n",
    "self.optimize = tf.train.AdamOptimizer(self.learning_rate).minimize(self.loss)"
   ]
  }
 ],
 "metadata": {
  "kernelspec": {
   "display_name": "Python [Root]",
   "language": "python",
   "name": "Python [Root]"
  },
  "language_info": {
   "codemirror_mode": {
    "name": "ipython",
    "version": 2
   },
   "file_extension": ".py",
   "mimetype": "text/x-python",
   "name": "python",
   "nbconvert_exporter": "python",
   "pygments_lexer": "ipython2",
   "version": "2.7.12"
  }
 },
 "nbformat": 4,
 "nbformat_minor": 0
}
