{
 "cells": [
  {
   "cell_type": "code",
   "execution_count": 3,
   "metadata": {
    "collapsed": false
   },
   "outputs": [],
   "source": [
    "import tensorflow as tf\n",
    "import numpy as np"
   ]
  },
  {
   "cell_type": "code",
   "execution_count": 13,
   "metadata": {
    "collapsed": false
   },
   "outputs": [],
   "source": [
    "lr = 0.01\n",
    "discount = 0.5\n",
    "epsilon = 0.5\n",
    "\n",
    "reward_means = np.asarray([4, 6, 1, 2, 1]) \n",
    "\n",
    "values = np.mean(reward_means)*np.ones([5])\n",
    "\n",
    "real_values = (reward_means + discount*np.max(reward_means)/(1-discount))\n",
    "\n",
    "\n",
    "def get_values():\n",
    "    return values\n",
    "\n",
    "def update_params(action_idx, reward):\n",
    "#     train_step = tf.train.GradientDescentOptimizer(0.5).minimize(cost)\n",
    "    old_value = values[action_idx]\n",
    "    max_nextstep_val = np.max(values)\n",
    "    hindsight_value = old_value + lr * (reward + discount * max_nextstep_val - old_value)\n",
    "    values[action_idx] = hindsight_value\n",
    "\n",
    "def gen_reward(action_idx):\n",
    "    chosen_mean = reward_means[action_idx]\n",
    "    reward = np.random.normal(chosen_mean, scale=chosen_mean/3.0)\n",
    "    return reward\n",
    "\n",
    "def choose_action():\n",
    "    is_random = np.random.choice([True, False], p=[epsilon, 1-epsilon])\n",
    "    if is_random:\n",
    "        return np.random.randint(5)\n",
    "    else: \n",
    "        return np.argmax(values)\n",
    "\n",
    "def take_step():\n",
    "    idx = choose_action()\n",
    "    update_params(idx, gen_reward(idx))"
   ]
  },
  {
   "cell_type": "code",
   "execution_count": 14,
   "metadata": {
    "collapsed": false
   },
   "outputs": [],
   "source": [
    "for i in range(1000):\n",
    "    take_step()"
   ]
  },
  {
   "cell_type": "code",
   "execution_count": 15,
   "metadata": {
    "collapsed": false
   },
   "outputs": [
    {
     "name": "stdout",
     "output_type": "stream",
     "text": [
      "[ 10.  12.   7.   8.   7.]\n",
      "[  6.37174359  11.78998175   4.78106637   5.06631654   4.91923801]\n"
     ]
    }
   ],
   "source": [
    "print real_values\n",
    "print values"
   ]
  },
  {
   "cell_type": "code",
   "execution_count": null,
   "metadata": {
    "collapsed": true
   },
   "outputs": [],
   "source": []
  }
 ],
 "metadata": {
  "kernelspec": {
   "display_name": "Python [Root]",
   "language": "python",
   "name": "Python [Root]"
  },
  "language_info": {
   "codemirror_mode": {
    "name": "ipython",
    "version": 2
   },
   "file_extension": ".py",
   "mimetype": "text/x-python",
   "name": "python",
   "nbconvert_exporter": "python",
   "pygments_lexer": "ipython2",
   "version": "2.7.12"
  }
 },
 "nbformat": 4,
 "nbformat_minor": 0
}
